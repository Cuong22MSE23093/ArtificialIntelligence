{
  "nbformat": 4,
  "nbformat_minor": 0,
  "metadata": {
    "colab": {
      "provenance": [],
      "authorship_tag": "ABX9TyPqfEKa2HfUmKlFz1T5/6Yx",
      "include_colab_link": true
    },
    "kernelspec": {
      "name": "python3",
      "display_name": "Python 3"
    },
    "language_info": {
      "name": "python"
    }
  },
  "cells": [
    {
      "cell_type": "markdown",
      "metadata": {
        "id": "view-in-github",
        "colab_type": "text"
      },
      "source": [
        "<a href=\"https://colab.research.google.com/github/Cuong22MSE23093/ArtificialIntelligence/blob/main/%5BAssignment_2%5D.ipynb\" target=\"_parent\"><img src=\"https://colab.research.google.com/assets/colab-badge.svg\" alt=\"Open In Colab\"/></a>"
      ]
    },
    {
      "cell_type": "markdown",
      "source": [
        "#Import Libraries"
      ],
      "metadata": {
        "id": "r1wC87qWzu2i"
      }
    },
    {
      "cell_type": "code",
      "execution_count": 12,
      "metadata": {
        "id": "3ao7Q0XEa7a7"
      },
      "outputs": [],
      "source": [
        "# This Python 3 environment comes with many helpful analytics libraries installed\n",
        "# It is defined by the kaggle/python docker image: https://github.com/kaggle/docker-python\n",
        "# For example, here's several helpful packages to load in\n",
        "import numpy as np\n",
        "from sklearn.model_selection import train_test_split\n",
        "from sklearn.linear_model import LinearRegression\n",
        "from sklearn.metrics import mean_squared_error\n",
        "from keras.models import Sequential\n",
        "from keras.layers import Dense, LSTM\n",
        "from sklearn.preprocessing import MinMaxScaler\n",
        "from sklearn.metrics import mean_squared_error"
      ]
    },
    {
      "cell_type": "markdown",
      "source": [
        "#Lập trình 100 số đầu tiên"
      ],
      "metadata": {
        "id": "5O5SDiWBASUG"
      }
    },
    {
      "cell_type": "code",
      "source": [
        "# Lập trình qui luật\n",
        "def generate_sequence(n):\n",
        "    sequence = [1, 1]\n",
        "    for i in range(2, n):\n",
        "        next_term = sequence[i - 1] + 2 * sequence[i - 2]\n",
        "        sequence.append(next_term)\n",
        "    return sequence\n",
        "\n",
        "n = 100\n",
        "sequence = generate_sequence(n)\n",
        "\n",
        "# In ra mỗi dòng 1 giá trị kèm theo số thứ tự\n",
        "for i, value in enumerate(sequence, start=1):\n",
        "    print(f\"x{i-1} = {value}\")"
      ],
      "metadata": {
        "colab": {
          "base_uri": "https://localhost:8080/"
        },
        "id": "whkoPjnDbAaR",
        "outputId": "cf1284ad-6f52-4ef7-a1a3-af5fdc7046fd"
      },
      "execution_count": 13,
      "outputs": [
        {
          "output_type": "stream",
          "name": "stdout",
          "text": [
            "x0 = 1\n",
            "x1 = 1\n",
            "x2 = 3\n",
            "x3 = 5\n",
            "x4 = 11\n",
            "x5 = 21\n",
            "x6 = 43\n",
            "x7 = 85\n",
            "x8 = 171\n",
            "x9 = 341\n",
            "x10 = 683\n",
            "x11 = 1365\n",
            "x12 = 2731\n",
            "x13 = 5461\n",
            "x14 = 10923\n",
            "x15 = 21845\n",
            "x16 = 43691\n",
            "x17 = 87381\n",
            "x18 = 174763\n",
            "x19 = 349525\n",
            "x20 = 699051\n",
            "x21 = 1398101\n",
            "x22 = 2796203\n",
            "x23 = 5592405\n",
            "x24 = 11184811\n",
            "x25 = 22369621\n",
            "x26 = 44739243\n",
            "x27 = 89478485\n",
            "x28 = 178956971\n",
            "x29 = 357913941\n",
            "x30 = 715827883\n",
            "x31 = 1431655765\n",
            "x32 = 2863311531\n",
            "x33 = 5726623061\n",
            "x34 = 11453246123\n",
            "x35 = 22906492245\n",
            "x36 = 45812984491\n",
            "x37 = 91625968981\n",
            "x38 = 183251937963\n",
            "x39 = 366503875925\n",
            "x40 = 733007751851\n",
            "x41 = 1466015503701\n",
            "x42 = 2932031007403\n",
            "x43 = 5864062014805\n",
            "x44 = 11728124029611\n",
            "x45 = 23456248059221\n",
            "x46 = 46912496118443\n",
            "x47 = 93824992236885\n",
            "x48 = 187649984473771\n",
            "x49 = 375299968947541\n",
            "x50 = 750599937895083\n",
            "x51 = 1501199875790165\n",
            "x52 = 3002399751580331\n",
            "x53 = 6004799503160661\n",
            "x54 = 12009599006321323\n",
            "x55 = 24019198012642645\n",
            "x56 = 48038396025285291\n",
            "x57 = 96076792050570581\n",
            "x58 = 192153584101141163\n",
            "x59 = 384307168202282325\n",
            "x60 = 768614336404564651\n",
            "x61 = 1537228672809129301\n",
            "x62 = 3074457345618258603\n",
            "x63 = 6148914691236517205\n",
            "x64 = 12297829382473034411\n",
            "x65 = 24595658764946068821\n",
            "x66 = 49191317529892137643\n",
            "x67 = 98382635059784275285\n",
            "x68 = 196765270119568550571\n",
            "x69 = 393530540239137101141\n",
            "x70 = 787061080478274202283\n",
            "x71 = 1574122160956548404565\n",
            "x72 = 3148244321913096809131\n",
            "x73 = 6296488643826193618261\n",
            "x74 = 12592977287652387236523\n",
            "x75 = 25185954575304774473045\n",
            "x76 = 50371909150609548946091\n",
            "x77 = 100743818301219097892181\n",
            "x78 = 201487636602438195784363\n",
            "x79 = 402975273204876391568725\n",
            "x80 = 805950546409752783137451\n",
            "x81 = 1611901092819505566274901\n",
            "x82 = 3223802185639011132549803\n",
            "x83 = 6447604371278022265099605\n",
            "x84 = 12895208742556044530199211\n",
            "x85 = 25790417485112089060398421\n",
            "x86 = 51580834970224178120796843\n",
            "x87 = 103161669940448356241593685\n",
            "x88 = 206323339880896712483187371\n",
            "x89 = 412646679761793424966374741\n",
            "x90 = 825293359523586849932749483\n",
            "x91 = 1650586719047173699865498965\n",
            "x92 = 3301173438094347399730997931\n",
            "x93 = 6602346876188694799461995861\n",
            "x94 = 13204693752377389598923991723\n",
            "x95 = 26409387504754779197847983445\n",
            "x96 = 52818775009509558395695966891\n",
            "x97 = 105637550019019116791391933781\n",
            "x98 = 211275100038038233582783867563\n",
            "x99 = 422550200076076467165567735125\n"
          ]
        }
      ]
    },
    {
      "cell_type": "markdown",
      "source": [
        "#Mô hình"
      ],
      "metadata": {
        "id": "5HUeUkiL8DBl"
      }
    },
    {
      "cell_type": "markdown",
      "source": [
        "Số thứ 101 theo quy luật"
      ],
      "metadata": {
        "id": "CSjTqiZt8m16"
      }
    },
    {
      "cell_type": "code",
      "source": [
        "next_term = sequence[i - 1] + 2 * sequence[i - 2]\n",
        "print(\"Giá trị thứ 101 theo quy luật:\", next_term)"
      ],
      "metadata": {
        "colab": {
          "base_uri": "https://localhost:8080/"
        },
        "id": "e2gAU6DW8tBp",
        "outputId": "dbf209d5-4f41-4af3-ca01-a9f06ab80fd7"
      },
      "execution_count": 15,
      "outputs": [
        {
          "output_type": "stream",
          "name": "stdout",
          "text": [
            "Giá trị thứ 101 theo quy luật: 845100400152152934331135470251\n"
          ]
        }
      ]
    },
    {
      "cell_type": "markdown",
      "source": [
        "Linear Regression"
      ],
      "metadata": {
        "id": "J27U0bsGdC-N"
      }
    },
    {
      "cell_type": "code",
      "source": [
        "# Chuẩn bị dữ liệu cho mô hình\n",
        "X = []\n",
        "y = []\n",
        "\n",
        "for i in range(2, n):\n",
        "    X.append([sequence[i-1], sequence[i-2]])\n",
        "    y.append(sequence[i])\n",
        "\n",
        "X = np.array(X)\n",
        "y = np.array(y)\n",
        "\n",
        "# Tạo và huấn luyện mô hình\n",
        "model = LinearRegression()\n",
        "model.fit(X, y)\n",
        "\n",
        "# Dự đoán giá trị tiếp theo trong dãy\n",
        "next_value = model.predict(np.array([[sequence[-1], sequence[-2]]]))\n",
        "print(\"Giá trị thứ 101 sử dụng Linear Regression:\", int(next_value))"
      ],
      "metadata": {
        "colab": {
          "base_uri": "https://localhost:8080/"
        },
        "id": "BxLrVCmwc-P6",
        "outputId": "1bbfaa81-97bd-4a1b-b286-37348b63cd2f"
      },
      "execution_count": 16,
      "outputs": [
        {
          "output_type": "stream",
          "name": "stdout",
          "text": [
            "Giá trị thứ 101 sử dụng Linear Regression: 845100400152152746681150996480\n"
          ]
        }
      ]
    },
    {
      "cell_type": "markdown",
      "source": [
        "LSTM"
      ],
      "metadata": {
        "id": "BA9-pjHKdIBH"
      }
    },
    {
      "cell_type": "code",
      "source": [
        "n = 101\n",
        "sequence = generate_sequence(n)\n",
        "\n",
        "# Chuẩn bị dữ liệu huấn luyện\n",
        "X = np.array(sequence[:-1]).reshape(-1, 1)\n",
        "y = np.array(sequence[1:]).reshape(-1, 1)\n",
        "\n",
        "# Chuẩn hóa dữ liệu\n",
        "scaler = MinMaxScaler()\n",
        "X_scaled = scaler.fit_transform(X)\n",
        "y_scaled = scaler.fit_transform(y)\n",
        "\n",
        "# Chuyển dữ liệu thành 3D để phù hợp với đầu vào của LSTM\n",
        "X_lstm = X_scaled.reshape(X_scaled.shape[0], 1, X_scaled.shape[1])\n",
        "y_lstm = y_scaled.reshape(y_scaled.shape[0], 1, y_scaled.shape[1])\n",
        "\n",
        "# Xây dựng mô hình LSTM\n",
        "model = Sequential()\n",
        "model.add(LSTM(units=50, activation='relu', input_shape=(1, 1)))\n",
        "model.add(Dense(units=1))\n",
        "model.compile(optimizer='adam', loss='mean_squared_error')\n",
        "\n",
        "# Huấn luyện mô hình\n",
        "model.fit(X_lstm, y_lstm, epochs=100, batch_size=8, verbose=1)\n",
        "\n",
        "# Dự đoán số thứ 101 bằng mô hình đã huấn luyện\n",
        "term_100 = np.array([sequence[100]]).reshape(-1, 1)\n",
        "term_100_scaled = scaler.transform(term_100)\n",
        "term_100_lstm = term_100_scaled.reshape(1, 1, 1)\n",
        "predicted_term_101_scaled = model.predict(term_100_lstm)\n",
        "predicted_term_101 = scaler.inverse_transform(predicted_term_101_scaled)\n",
        "\n",
        "print(\"Giá trị thứ 101 sử dụng LSTM:\", predicted_term_101)"
      ],
      "metadata": {
        "colab": {
          "base_uri": "https://localhost:8080/"
        },
        "id": "qSDGhkPLdFfG",
        "outputId": "5d43ea07-df9a-4a42-f5a6-a90add50a7b2"
      },
      "execution_count": 22,
      "outputs": [
        {
          "output_type": "stream",
          "name": "stdout",
          "text": [
            "Epoch 1/100\n",
            "13/13 [==============================] - 3s 3ms/step - loss: 0.0130 \n",
            "Epoch 2/100\n",
            "13/13 [==============================] - 0s 3ms/step - loss: 0.0126\n",
            "Epoch 3/100\n",
            "13/13 [==============================] - 0s 2ms/step - loss: 0.0121\n",
            "Epoch 4/100\n",
            "13/13 [==============================] - 0s 2ms/step - loss: 0.0118\n",
            "Epoch 5/100\n",
            "13/13 [==============================] - 0s 2ms/step - loss: 0.0116\n",
            "Epoch 6/100\n",
            "13/13 [==============================] - 0s 2ms/step - loss: 0.0113\n",
            "Epoch 7/100\n",
            "13/13 [==============================] - 0s 2ms/step - loss: 0.0112\n",
            "Epoch 8/100\n",
            "13/13 [==============================] - 0s 3ms/step - loss: 0.0109\n",
            "Epoch 9/100\n",
            "13/13 [==============================] - 0s 3ms/step - loss: 0.0106\n",
            "Epoch 10/100\n",
            "13/13 [==============================] - 0s 3ms/step - loss: 0.0105\n",
            "Epoch 11/100\n",
            "13/13 [==============================] - 0s 3ms/step - loss: 0.0102\n",
            "Epoch 12/100\n",
            "13/13 [==============================] - 0s 3ms/step - loss: 0.0100\n",
            "Epoch 13/100\n",
            "13/13 [==============================] - 0s 2ms/step - loss: 0.0098\n",
            "Epoch 14/100\n",
            "13/13 [==============================] - 0s 2ms/step - loss: 0.0096\n",
            "Epoch 15/100\n",
            "13/13 [==============================] - 0s 3ms/step - loss: 0.0094\n",
            "Epoch 16/100\n",
            "13/13 [==============================] - 0s 3ms/step - loss: 0.0091\n",
            "Epoch 17/100\n",
            "13/13 [==============================] - 0s 3ms/step - loss: 0.0088\n",
            "Epoch 18/100\n",
            "13/13 [==============================] - 0s 3ms/step - loss: 0.0087\n",
            "Epoch 19/100\n",
            "13/13 [==============================] - 0s 2ms/step - loss: 0.0084\n",
            "Epoch 20/100\n",
            "13/13 [==============================] - 0s 2ms/step - loss: 0.0081\n",
            "Epoch 21/100\n",
            "13/13 [==============================] - 0s 3ms/step - loss: 0.0079\n",
            "Epoch 22/100\n",
            "13/13 [==============================] - 0s 3ms/step - loss: 0.0077\n",
            "Epoch 23/100\n",
            "13/13 [==============================] - 0s 3ms/step - loss: 0.0075\n",
            "Epoch 24/100\n",
            "13/13 [==============================] - 0s 3ms/step - loss: 0.0071\n",
            "Epoch 25/100\n",
            "13/13 [==============================] - 0s 2ms/step - loss: 0.0070\n",
            "Epoch 26/100\n",
            "13/13 [==============================] - 0s 3ms/step - loss: 0.0067\n",
            "Epoch 27/100\n",
            "13/13 [==============================] - 0s 2ms/step - loss: 0.0064\n",
            "Epoch 28/100\n",
            "13/13 [==============================] - 0s 2ms/step - loss: 0.0063\n",
            "Epoch 29/100\n",
            "13/13 [==============================] - 0s 3ms/step - loss: 0.0059\n",
            "Epoch 30/100\n",
            "13/13 [==============================] - 0s 2ms/step - loss: 0.0057\n",
            "Epoch 31/100\n",
            "13/13 [==============================] - 0s 2ms/step - loss: 0.0054\n",
            "Epoch 32/100\n",
            "13/13 [==============================] - 0s 3ms/step - loss: 0.0052\n",
            "Epoch 33/100\n",
            "13/13 [==============================] - 0s 2ms/step - loss: 0.0049\n",
            "Epoch 34/100\n",
            "13/13 [==============================] - 0s 3ms/step - loss: 0.0048\n",
            "Epoch 35/100\n",
            "13/13 [==============================] - 0s 3ms/step - loss: 0.0044\n",
            "Epoch 36/100\n",
            "13/13 [==============================] - 0s 3ms/step - loss: 0.0042\n",
            "Epoch 37/100\n",
            "13/13 [==============================] - 0s 3ms/step - loss: 0.0040\n",
            "Epoch 38/100\n",
            "13/13 [==============================] - 0s 3ms/step - loss: 0.0037\n",
            "Epoch 39/100\n",
            "13/13 [==============================] - 0s 3ms/step - loss: 0.0036\n",
            "Epoch 40/100\n",
            "13/13 [==============================] - 0s 3ms/step - loss: 0.0033\n",
            "Epoch 41/100\n",
            "13/13 [==============================] - 0s 3ms/step - loss: 0.0031\n",
            "Epoch 42/100\n",
            "13/13 [==============================] - 0s 3ms/step - loss: 0.0029\n",
            "Epoch 43/100\n",
            "13/13 [==============================] - 0s 3ms/step - loss: 0.0026\n",
            "Epoch 44/100\n",
            "13/13 [==============================] - 0s 3ms/step - loss: 0.0024\n",
            "Epoch 45/100\n",
            "13/13 [==============================] - 0s 3ms/step - loss: 0.0022\n",
            "Epoch 46/100\n",
            "13/13 [==============================] - 0s 3ms/step - loss: 0.0020\n",
            "Epoch 47/100\n",
            "13/13 [==============================] - 0s 3ms/step - loss: 0.0020\n",
            "Epoch 48/100\n",
            "13/13 [==============================] - 0s 3ms/step - loss: 0.0017\n",
            "Epoch 49/100\n",
            "13/13 [==============================] - 0s 4ms/step - loss: 0.0016\n",
            "Epoch 50/100\n",
            "13/13 [==============================] - 0s 3ms/step - loss: 0.0014\n",
            "Epoch 51/100\n",
            "13/13 [==============================] - 0s 3ms/step - loss: 0.0012\n",
            "Epoch 52/100\n",
            "13/13 [==============================] - 0s 2ms/step - loss: 0.0011\n",
            "Epoch 53/100\n",
            "13/13 [==============================] - 0s 3ms/step - loss: 0.0010\n",
            "Epoch 54/100\n",
            "13/13 [==============================] - 0s 3ms/step - loss: 8.8749e-04\n",
            "Epoch 55/100\n",
            "13/13 [==============================] - 0s 3ms/step - loss: 7.6360e-04\n",
            "Epoch 56/100\n",
            "13/13 [==============================] - 0s 3ms/step - loss: 7.0528e-04\n",
            "Epoch 57/100\n",
            "13/13 [==============================] - 0s 3ms/step - loss: 5.9936e-04\n",
            "Epoch 58/100\n",
            "13/13 [==============================] - 0s 2ms/step - loss: 5.1798e-04\n",
            "Epoch 59/100\n",
            "13/13 [==============================] - 0s 3ms/step - loss: 4.5348e-04\n",
            "Epoch 60/100\n",
            "13/13 [==============================] - 0s 2ms/step - loss: 3.9711e-04\n",
            "Epoch 61/100\n",
            "13/13 [==============================] - 0s 2ms/step - loss: 3.4797e-04\n",
            "Epoch 62/100\n",
            "13/13 [==============================] - 0s 3ms/step - loss: 3.1133e-04\n",
            "Epoch 63/100\n",
            "13/13 [==============================] - 0s 2ms/step - loss: 2.5756e-04\n",
            "Epoch 64/100\n",
            "13/13 [==============================] - 0s 2ms/step - loss: 2.2176e-04\n",
            "Epoch 65/100\n",
            "13/13 [==============================] - 0s 3ms/step - loss: 1.9288e-04\n",
            "Epoch 66/100\n",
            "13/13 [==============================] - 0s 2ms/step - loss: 1.6682e-04\n",
            "Epoch 67/100\n",
            "13/13 [==============================] - 0s 3ms/step - loss: 1.3990e-04\n",
            "Epoch 68/100\n",
            "13/13 [==============================] - 0s 3ms/step - loss: 1.2683e-04\n",
            "Epoch 69/100\n",
            "13/13 [==============================] - 0s 2ms/step - loss: 1.0411e-04\n",
            "Epoch 70/100\n",
            "13/13 [==============================] - 0s 3ms/step - loss: 9.5570e-05\n",
            "Epoch 71/100\n",
            "13/13 [==============================] - 0s 3ms/step - loss: 8.0556e-05\n",
            "Epoch 72/100\n",
            "13/13 [==============================] - 0s 3ms/step - loss: 7.8038e-05\n",
            "Epoch 73/100\n",
            "13/13 [==============================] - 0s 2ms/step - loss: 6.4021e-05\n",
            "Epoch 74/100\n",
            "13/13 [==============================] - 0s 2ms/step - loss: 5.7838e-05\n",
            "Epoch 75/100\n",
            "13/13 [==============================] - 0s 3ms/step - loss: 5.4285e-05\n",
            "Epoch 76/100\n",
            "13/13 [==============================] - 0s 3ms/step - loss: 4.8336e-05\n",
            "Epoch 77/100\n",
            "13/13 [==============================] - 0s 2ms/step - loss: 4.4369e-05\n",
            "Epoch 78/100\n",
            "13/13 [==============================] - 0s 2ms/step - loss: 4.1720e-05\n",
            "Epoch 79/100\n",
            "13/13 [==============================] - 0s 3ms/step - loss: 3.9927e-05\n",
            "Epoch 80/100\n",
            "13/13 [==============================] - 0s 3ms/step - loss: 3.7738e-05\n",
            "Epoch 81/100\n",
            "13/13 [==============================] - 0s 3ms/step - loss: 3.8302e-05\n",
            "Epoch 82/100\n",
            "13/13 [==============================] - 0s 3ms/step - loss: 3.5604e-05\n",
            "Epoch 83/100\n",
            "13/13 [==============================] - 0s 3ms/step - loss: 3.4546e-05\n",
            "Epoch 84/100\n",
            "13/13 [==============================] - 0s 3ms/step - loss: 3.3031e-05\n",
            "Epoch 85/100\n",
            "13/13 [==============================] - 0s 3ms/step - loss: 3.3406e-05\n",
            "Epoch 86/100\n",
            "13/13 [==============================] - 0s 2ms/step - loss: 3.2165e-05\n",
            "Epoch 87/100\n",
            "13/13 [==============================] - 0s 3ms/step - loss: 3.2451e-05\n",
            "Epoch 88/100\n",
            "13/13 [==============================] - 0s 2ms/step - loss: 3.1416e-05\n",
            "Epoch 89/100\n",
            "13/13 [==============================] - 0s 2ms/step - loss: 3.2082e-05\n",
            "Epoch 90/100\n",
            "13/13 [==============================] - 0s 2ms/step - loss: 3.1977e-05\n",
            "Epoch 91/100\n",
            "13/13 [==============================] - 0s 3ms/step - loss: 3.1335e-05\n",
            "Epoch 92/100\n",
            "13/13 [==============================] - 0s 3ms/step - loss: 3.1904e-05\n",
            "Epoch 93/100\n",
            "13/13 [==============================] - 0s 3ms/step - loss: 3.1486e-05\n",
            "Epoch 94/100\n",
            "13/13 [==============================] - 0s 3ms/step - loss: 3.0590e-05\n",
            "Epoch 95/100\n",
            "13/13 [==============================] - 0s 3ms/step - loss: 3.1222e-05\n",
            "Epoch 96/100\n",
            "13/13 [==============================] - 0s 3ms/step - loss: 3.1704e-05\n",
            "Epoch 97/100\n",
            "13/13 [==============================] - 0s 3ms/step - loss: 3.2294e-05\n",
            "Epoch 98/100\n",
            "13/13 [==============================] - 0s 2ms/step - loss: 3.0480e-05\n",
            "Epoch 99/100\n",
            "13/13 [==============================] - 0s 3ms/step - loss: 3.1782e-05\n",
            "Epoch 100/100\n",
            "13/13 [==============================] - 0s 3ms/step - loss: 3.0526e-05\n"
          ]
        },
        {
          "output_type": "stream",
          "name": "stderr",
          "text": [
            "WARNING:tensorflow:5 out of the last 5 calls to <function Model.make_predict_function.<locals>.predict_function at 0x79c500b09b40> triggered tf.function retracing. Tracing is expensive and the excessive number of tracings could be due to (1) creating @tf.function repeatedly in a loop, (2) passing tensors with different shapes, (3) passing Python objects instead of tensors. For (1), please define your @tf.function outside of the loop. For (2), @tf.function has reduce_retracing=True option that can avoid unnecessary retracing. For (3), please refer to https://www.tensorflow.org/guide/function#controlling_retracing and https://www.tensorflow.org/api_docs/python/tf/function for  more details.\n"
          ]
        },
        {
          "output_type": "stream",
          "name": "stdout",
          "text": [
            "1/1 [==============================] - 0s 173ms/step\n",
            "Giá trị thứ 101 sử dụng LSTM: [[8.651329e+29]]\n"
          ]
        }
      ]
    }
  ]
}