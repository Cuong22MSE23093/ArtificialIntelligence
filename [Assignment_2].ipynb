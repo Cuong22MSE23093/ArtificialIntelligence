{
  "nbformat": 4,
  "nbformat_minor": 0,
  "metadata": {
    "colab": {
      "provenance": [],
      "authorship_tag": "ABX9TyO/1l223ZwN2ySEAVUDzxCZ",
      "include_colab_link": true
    },
    "kernelspec": {
      "name": "python3",
      "display_name": "Python 3"
    },
    "language_info": {
      "name": "python"
    }
  },
  "cells": [
    {
      "cell_type": "markdown",
      "metadata": {
        "id": "view-in-github",
        "colab_type": "text"
      },
      "source": [
        "<a href=\"https://colab.research.google.com/github/Cuong22MSE23093/ArtificialIntelligence/blob/main/%5BAssignment_2%5D.ipynb\" target=\"_parent\"><img src=\"https://colab.research.google.com/assets/colab-badge.svg\" alt=\"Open In Colab\"/></a>"
      ]
    },
    {
      "cell_type": "markdown",
      "source": [
        "#Import Libraries"
      ],
      "metadata": {
        "id": "r1wC87qWzu2i"
      }
    },
    {
      "cell_type": "code",
      "execution_count": 24,
      "metadata": {
        "id": "3ao7Q0XEa7a7"
      },
      "outputs": [],
      "source": [
        "# This Python 3 environment comes with many helpful analytics libraries installed\n",
        "# It is defined by the kaggle/python docker image: https://github.com/kaggle/docker-python\n",
        "# For example, here's several helpful packages to load in\n",
        "import numpy as np\n",
        "from sklearn.model_selection import train_test_split\n",
        "from sklearn.linear_model import LinearRegression\n",
        "from sklearn.metrics import mean_squared_error\n",
        "from keras.models import Sequential\n",
        "from keras.layers import Dense, LSTM\n",
        "from sklearn.preprocessing import MinMaxScaler\n",
        "from sklearn.metrics import mean_squared_error"
      ]
    },
    {
      "cell_type": "markdown",
      "source": [
        "#Lập trình 100 số đầu tiên"
      ],
      "metadata": {
        "id": "5O5SDiWBASUG"
      }
    },
    {
      "cell_type": "code",
      "source": [
        "# Lập trình qui luật\n",
        "def generate_sequence(n):\n",
        "    sequence = [1, 1]\n",
        "    for i in range(2, n):\n",
        "        next_term = sequence[i - 1] + 2 * sequence[i - 2]\n",
        "        sequence.append(next_term)\n",
        "    return sequence\n",
        "\n",
        "n = 100\n",
        "sequence = generate_sequence(n)\n",
        "\n",
        "# In ra mỗi dòng 1 giá trị kèm theo số thứ tự\n",
        "for i, value in enumerate(sequence, start=1):\n",
        "    print(f\"x{i-1} = {value}\")"
      ],
      "metadata": {
        "colab": {
          "base_uri": "https://localhost:8080/"
        },
        "id": "whkoPjnDbAaR",
        "outputId": "cdfb9133-f558-4ed1-cdb9-2002b7c2d10f"
      },
      "execution_count": 25,
      "outputs": [
        {
          "output_type": "stream",
          "name": "stdout",
          "text": [
            "x0 = 1\n",
            "x1 = 1\n",
            "x2 = 3\n",
            "x3 = 5\n",
            "x4 = 11\n",
            "x5 = 21\n",
            "x6 = 43\n",
            "x7 = 85\n",
            "x8 = 171\n",
            "x9 = 341\n",
            "x10 = 683\n",
            "x11 = 1365\n",
            "x12 = 2731\n",
            "x13 = 5461\n",
            "x14 = 10923\n",
            "x15 = 21845\n",
            "x16 = 43691\n",
            "x17 = 87381\n",
            "x18 = 174763\n",
            "x19 = 349525\n",
            "x20 = 699051\n",
            "x21 = 1398101\n",
            "x22 = 2796203\n",
            "x23 = 5592405\n",
            "x24 = 11184811\n",
            "x25 = 22369621\n",
            "x26 = 44739243\n",
            "x27 = 89478485\n",
            "x28 = 178956971\n",
            "x29 = 357913941\n",
            "x30 = 715827883\n",
            "x31 = 1431655765\n",
            "x32 = 2863311531\n",
            "x33 = 5726623061\n",
            "x34 = 11453246123\n",
            "x35 = 22906492245\n",
            "x36 = 45812984491\n",
            "x37 = 91625968981\n",
            "x38 = 183251937963\n",
            "x39 = 366503875925\n",
            "x40 = 733007751851\n",
            "x41 = 1466015503701\n",
            "x42 = 2932031007403\n",
            "x43 = 5864062014805\n",
            "x44 = 11728124029611\n",
            "x45 = 23456248059221\n",
            "x46 = 46912496118443\n",
            "x47 = 93824992236885\n",
            "x48 = 187649984473771\n",
            "x49 = 375299968947541\n",
            "x50 = 750599937895083\n",
            "x51 = 1501199875790165\n",
            "x52 = 3002399751580331\n",
            "x53 = 6004799503160661\n",
            "x54 = 12009599006321323\n",
            "x55 = 24019198012642645\n",
            "x56 = 48038396025285291\n",
            "x57 = 96076792050570581\n",
            "x58 = 192153584101141163\n",
            "x59 = 384307168202282325\n",
            "x60 = 768614336404564651\n",
            "x61 = 1537228672809129301\n",
            "x62 = 3074457345618258603\n",
            "x63 = 6148914691236517205\n",
            "x64 = 12297829382473034411\n",
            "x65 = 24595658764946068821\n",
            "x66 = 49191317529892137643\n",
            "x67 = 98382635059784275285\n",
            "x68 = 196765270119568550571\n",
            "x69 = 393530540239137101141\n",
            "x70 = 787061080478274202283\n",
            "x71 = 1574122160956548404565\n",
            "x72 = 3148244321913096809131\n",
            "x73 = 6296488643826193618261\n",
            "x74 = 12592977287652387236523\n",
            "x75 = 25185954575304774473045\n",
            "x76 = 50371909150609548946091\n",
            "x77 = 100743818301219097892181\n",
            "x78 = 201487636602438195784363\n",
            "x79 = 402975273204876391568725\n",
            "x80 = 805950546409752783137451\n",
            "x81 = 1611901092819505566274901\n",
            "x82 = 3223802185639011132549803\n",
            "x83 = 6447604371278022265099605\n",
            "x84 = 12895208742556044530199211\n",
            "x85 = 25790417485112089060398421\n",
            "x86 = 51580834970224178120796843\n",
            "x87 = 103161669940448356241593685\n",
            "x88 = 206323339880896712483187371\n",
            "x89 = 412646679761793424966374741\n",
            "x90 = 825293359523586849932749483\n",
            "x91 = 1650586719047173699865498965\n",
            "x92 = 3301173438094347399730997931\n",
            "x93 = 6602346876188694799461995861\n",
            "x94 = 13204693752377389598923991723\n",
            "x95 = 26409387504754779197847983445\n",
            "x96 = 52818775009509558395695966891\n",
            "x97 = 105637550019019116791391933781\n",
            "x98 = 211275100038038233582783867563\n",
            "x99 = 422550200076076467165567735125\n"
          ]
        }
      ]
    },
    {
      "cell_type": "markdown",
      "source": [
        "#Mô hình"
      ],
      "metadata": {
        "id": "5HUeUkiL8DBl"
      }
    },
    {
      "cell_type": "markdown",
      "source": [
        "Số thứ 101 theo quy luật"
      ],
      "metadata": {
        "id": "CSjTqiZt8m16"
      }
    },
    {
      "cell_type": "code",
      "source": [
        "next_term = sequence[i - 1] + 2 * sequence[i - 2]\n",
        "print(\"Giá trị thứ 101 theo quy luật:\", next_term)"
      ],
      "metadata": {
        "colab": {
          "base_uri": "https://localhost:8080/"
        },
        "id": "e2gAU6DW8tBp",
        "outputId": "e9c52522-4eb4-4457-b60b-ab9ce464f2e3"
      },
      "execution_count": 26,
      "outputs": [
        {
          "output_type": "stream",
          "name": "stdout",
          "text": [
            "Giá trị thứ 101 theo quy luật: 845100400152152934331135470251\n"
          ]
        }
      ]
    },
    {
      "cell_type": "markdown",
      "source": [
        "Linear Regression"
      ],
      "metadata": {
        "id": "J27U0bsGdC-N"
      }
    },
    {
      "cell_type": "code",
      "source": [
        "# Chuẩn bị dữ liệu cho mô hình\n",
        "X = []\n",
        "y = []\n",
        "\n",
        "for i in range(2, n):\n",
        "    X.append([sequence[i-1], sequence[i-2]])\n",
        "    y.append(sequence[i])\n",
        "\n",
        "X = np.array(X)\n",
        "y = np.array(y)\n",
        "\n",
        "# Tạo và huấn luyện mô hình\n",
        "model = LinearRegression()\n",
        "model.fit(X, y)\n",
        "\n",
        "# Dự đoán giá trị tiếp theo trong dãy\n",
        "next_value = model.predict(np.array([[sequence[-1], sequence[-2]]]))\n",
        "print(\"Giá trị thứ 101 sử dụng Linear Regression:\", int(next_value))"
      ],
      "metadata": {
        "colab": {
          "base_uri": "https://localhost:8080/"
        },
        "id": "BxLrVCmwc-P6",
        "outputId": "20fb699a-1baa-4aec-ac23-2f8566f88289"
      },
      "execution_count": 27,
      "outputs": [
        {
          "output_type": "stream",
          "name": "stdout",
          "text": [
            "Giá trị thứ 101 sử dụng Linear Regression: 845100400152152746681150996480\n"
          ]
        }
      ]
    }
  ]
}